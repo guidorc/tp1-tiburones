{
  "metadata": {
    "kernelspec": {
      "name": "python",
      "display_name": "Python (Pyodide)",
      "language": "python"
    },
    "language_info": {
      "codemirror_mode": {
        "name": "python",
        "version": 3
      },
      "file_extension": ".py",
      "mimetype": "text/x-python",
      "name": "python",
      "nbconvert_exporter": "python",
      "pygments_lexer": "ipython3",
      "version": "3.8"
    }
  },
  "nbformat_minor": 4,
  "nbformat": 4,
  "cells": [
    {
      "cell_type": "code",
      "source": "import pandas as pd\nimport geopandas as gpd\nimport matplotlib.pyplot as plt\n\ndf = pd.read_csv('tp1-ataques.csv')",
      "metadata": {
        "trusted": true
      },
      "outputs": [],
      "execution_count": null
    },
    {
      "cell_type": "code",
      "source": "### ATAQUES POR PAÍS\n\n# Contar cantidad de ataques por país\ncountry_counts = df['Country'].value_counts().reset_index()\ncountry_counts.columns = ['Country', 'Attacks']\n\n# Tabla de ataques por país\ncountry_counts.to_csv('ataques_por_país.csv')\n\n# Paises con al menos 20 ataques\ncountry_attacks = country_counts[country_counts['Attacks'] >= 50].sort_values(by='Attacks')\n\nplt.figure(figsize=(12, 8))\nplt.bar(country_attacks['Country'], country_attacks['Attacks'], color='skyblue')\nplt.xticks(rotation=90)\nplt.yticks([n for n in range(100, 2601, 100)])\nplt.xlabel('País')\nplt.ylabel('Número de ataques')\nplt.title('Ataques por País (al menos 50 registrados)')\n\nmax_attacks = country_attacks['Attacks'].max()\nfor y in range(100, 2601, 100):\n    plt.axhline(y=y, color='gray', linestyle='--', linewidth=0.5)\n\nplt.savefig('ataques_por_pais.png', format='png', bbox_inches='tight', dpi=300)\nplt.tight_layout()\nplt.show()",
      "metadata": {
        "trusted": true
      },
      "outputs": [],
      "execution_count": null
    },
    {
      "cell_type": "code",
      "source": "### ATAQUES POR TIPO\n\n# Contar cantidad de ataques por tipo\ntype_counts = df['Type'].value_counts().reset_index()\ntype_counts.columns = ['Type', 'Attacks']\n\nattacks_by_type = type_counts.sort_values(by='Attacks')\n\nplt.figure(figsize=(12, 8))\nplt.bar(type_counts['Type'], type_counts['Attacks'], color='skyblue')\nplt.xticks(rotation=90)\nplt.yticks([n for n in range(200, 5001, 200)])\nplt.xlabel('Tipo')\nplt.ylabel('Número de ataques')\nplt.title('Ataques por Tipo')\n\nmax_attacks = attacks_by_type['Attacks'].max()\nfor y in range(200, max_attacks + 1, 200):\n    plt.axhline(y=y, color='gray', linestyle='--', linewidth=0.5)\n\nplt.savefig('ataques_por_tipo.png', format='png', bbox_inches='tight', dpi=300)\nplt.tight_layout()\nplt.show()",
      "metadata": {
        "trusted": true
      },
      "outputs": [],
      "execution_count": null
    },
    {
      "cell_type": "code",
      "source": "### ATAQUES POR SEXO\n\n# Count cantidad de ataques por sexo\nsex_counts = df['Sex'].value_counts()\n\n# Plot the pie chart\nplt.figure(figsize=(8, 8))\nplt.pie(sex_counts, labels=sex_counts.index, autopct='%1.1f%%', startangle=90, colors=['skyblue', 'lightcoral', 'lightgreen'])\nplt.title('Distribución de ataques por sexo')\n\nplt.savefig('ataques_por_sexo.png', format='png', bbox_inches='tight', dpi=300)\nplt.show()",
      "metadata": {
        "trusted": true
      },
      "outputs": [],
      "execution_count": null
    },
    {
      "cell_type": "code",
      "source": "### Agregar código a los paises\ncountries_df = pd.read_csv('ataques_por_país.csv')\ncountry_codes_df = pd.read_csv('country_codes.csv')\n\n# Rename the 'Alpha-3 code' column for easier merging\ncountry_codes_df = country_codes_df.rename(columns={'Alpha-3 code': 'iso_a3'})\n\n# Convert both Country columns to lowercase for case-insensitive matching\ncountries_df['Country_lower'] = countries_df['Country'].str.lower()\ncountry_codes_df['Country_lower'] = country_codes_df['Country'].str.lower()\n\n# Define a function to find partial matches\ndef find_iso_a3(country_name):\n    # Filter the country_codes_df for names containing the country_name\n    match = country_codes_df[country_codes_df['Country_lower'].str.contains(country_name)]\n    # If a match is found, return the first match's iso_a3 code\n    return match['iso_a3'].values[0] if not match.empty else None\n\n# Apply the function to the Country column in countries_df to get ISO A3 codes\ncountries_df['iso_a3'] = countries_df['Country_lower'].apply(find_iso_a3)\n\n# Drop the auxiliary 'Country_lower' column after merging\ncountries_df = countries_df.drop(columns=['Country_lower'])\n\n# Save the updated DataFrame to a new CSV (optional)\ncountries_df.to_csv('countries_with_iso_a3.csv', index=False)",
      "metadata": {
        "trusted": true
      },
      "outputs": [],
      "execution_count": null
    },
    {
      "cell_type": "code",
      "source": "### Mapa de ataques\npaises_con_codigo = pd.read_csv('paises_con_codigo.csv')\ncodigos = paises_con_codigo['iso_a3'].replace('\"', '').unique()\n\n# Cargar mapa y agregar países\nworld = gpd.read_file(gpd.datasets.get_path('naturalearth_lowres'))\nworld['In_Dataset'] = world['iso_a3'].isin(codigos)\n\n# Plotting\nfig, ax = plt.subplots(1, 1, figsize=(10, 6))\nworld.boundary.plot(ax=ax, linewidth=0.8, color=\"black\")\nworld.plot(ax=ax, color='lightgrey', edgecolor=\"black\")\nworld[world['In_Dataset']].plot(ax=ax, color='red', edgecolor=\"black\", linewidth=0.5)\n\nax.set_title(\"Países con ataques registrados\", fontsize=15)\nax.axis('off')\n\nplt.savefig('mapa_ataques_por_pais.png', format='png', bbox_inches='tight', dpi=300)\nplt.show()",
      "metadata": {
        "trusted": true
      },
      "outputs": [],
      "execution_count": null
    },
    {
      "cell_type": "code",
      "source": "",
      "metadata": {
        "trusted": true
      },
      "outputs": [],
      "execution_count": null
    }
  ]
}